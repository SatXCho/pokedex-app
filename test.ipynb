{
 "cells": [
  {
   "cell_type": "code",
   "execution_count": 1,
   "metadata": {},
   "outputs": [],
   "source": [
    "import pandas as pd"
   ]
  },
  {
   "cell_type": "code",
   "execution_count": 5,
   "metadata": {},
   "outputs": [
    {
     "data": {
      "text/plain": [
       "Index(['Pokemon Id', 'Pokedex Number', 'Pokemon Name', 'Classification',\n",
       "       'Alternate Form Name', 'Original Pokemon ID', 'Legendary Type',\n",
       "       'Pokemon Height', 'Pokemon Weight', 'Primary Type', 'Secondary Type',\n",
       "       'Primary Ability', 'Primary Ability Description', 'Secondary Ability',\n",
       "       'Secondary Ability Description', 'Hidden Ability',\n",
       "       'Hidden Ability Description', 'Special Event Ability',\n",
       "       'Special Event Ability Description', 'Male Ratio', 'Female Ratio',\n",
       "       'Base Happiness', 'Game(s) of Origin', 'Health Stat', 'Attack Stat',\n",
       "       'Defense Stat', 'Special Attack Stat', 'Special Defense Stat',\n",
       "       'Speed Stat', 'Base Stat Total', 'Health EV', 'Attack EV', 'Defense EV',\n",
       "       'Special Attack EV', 'Special Defense EV', 'Speed EV', 'EV Yield Total',\n",
       "       'Catch Rate', 'Experience Growth', 'Experience Growth Total',\n",
       "       'Primary Egg Group', 'Secondary Egg Group', 'Egg Cycle Count',\n",
       "       'Pre-Evolution Pokemon Id', 'Evolution Details'],\n",
       "      dtype='object')"
      ]
     },
     "execution_count": 5,
     "metadata": {},
     "output_type": "execute_result"
    }
   ],
   "source": [
    "data = pd.read_csv('Pokemon Database.csv')\n",
    "data.columns"
   ]
  }
 ],
 "metadata": {
  "kernelspec": {
   "display_name": "web",
   "language": "python",
   "name": "python3"
  },
  "language_info": {
   "codemirror_mode": {
    "name": "ipython",
    "version": 3
   },
   "file_extension": ".py",
   "mimetype": "text/x-python",
   "name": "python",
   "nbconvert_exporter": "python",
   "pygments_lexer": "ipython3",
   "version": "3.12.7"
  }
 },
 "nbformat": 4,
 "nbformat_minor": 2
}
